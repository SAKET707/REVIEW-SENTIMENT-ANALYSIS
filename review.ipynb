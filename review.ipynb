{
 "cells": [
  {
   "cell_type": "code",
   "execution_count": 328,
   "id": "01a1069d",
   "metadata": {},
   "outputs": [],
   "source": [
    "import pandas as pd\n",
    "import numpy as np\n",
    "import warnings\n",
    "warnings.filterwarnings('ignore')"
   ]
  },
  {
   "cell_type": "code",
   "execution_count": 329,
   "id": "83fc2e24",
   "metadata": {},
   "outputs": [],
   "source": [
    "# pd.set_option('display.float_format',lambda x: '{: .2f}'.format(x)) \n",
    "# np.set_printoptions(suppress=True) \n",
    "# pd.set_option(\"display.max_columns\",None) \n",
    "# pd.set_option(\"display.width\",2000) \n",
    "\n",
    "pd.set_option('display.max_colwidth', None)\n",
    "pd.set_option('display.max_rows', None)\n"
   ]
  },
  {
   "cell_type": "code",
   "execution_count": 330,
   "id": "1a88d070",
   "metadata": {},
   "outputs": [],
   "source": [
    "df = pd.read_csv('trip.csv')"
   ]
  },
  {
   "cell_type": "code",
   "execution_count": 331,
   "id": "3d2dff1e",
   "metadata": {},
   "outputs": [
    {
     "data": {
      "text/plain": [
       "Review    0\n",
       "Rating    0\n",
       "dtype: int64"
      ]
     },
     "execution_count": 331,
     "metadata": {},
     "output_type": "execute_result"
    }
   ],
   "source": [
    "df.isna().sum()"
   ]
  },
  {
   "cell_type": "code",
   "execution_count": 332,
   "id": "a9354655",
   "metadata": {},
   "outputs": [
    {
     "data": {
      "text/plain": [
       "0"
      ]
     },
     "execution_count": 332,
     "metadata": {},
     "output_type": "execute_result"
    }
   ],
   "source": [
    "df.duplicated().sum()"
   ]
  },
  {
   "cell_type": "code",
   "execution_count": 333,
   "id": "ecfd55a1",
   "metadata": {},
   "outputs": [
    {
     "data": {
      "text/html": [
       "<div>\n",
       "<style scoped>\n",
       "    .dataframe tbody tr th:only-of-type {\n",
       "        vertical-align: middle;\n",
       "    }\n",
       "\n",
       "    .dataframe tbody tr th {\n",
       "        vertical-align: top;\n",
       "    }\n",
       "\n",
       "    .dataframe thead th {\n",
       "        text-align: right;\n",
       "    }\n",
       "</style>\n",
       "<table border=\"1\" class=\"dataframe\">\n",
       "  <thead>\n",
       "    <tr style=\"text-align: right;\">\n",
       "      <th></th>\n",
       "      <th>Rating</th>\n",
       "    </tr>\n",
       "  </thead>\n",
       "  <tbody>\n",
       "    <tr>\n",
       "      <th>count</th>\n",
       "      <td>20491.000000</td>\n",
       "    </tr>\n",
       "    <tr>\n",
       "      <th>mean</th>\n",
       "      <td>3.952223</td>\n",
       "    </tr>\n",
       "    <tr>\n",
       "      <th>std</th>\n",
       "      <td>1.233030</td>\n",
       "    </tr>\n",
       "    <tr>\n",
       "      <th>min</th>\n",
       "      <td>1.000000</td>\n",
       "    </tr>\n",
       "    <tr>\n",
       "      <th>25%</th>\n",
       "      <td>3.000000</td>\n",
       "    </tr>\n",
       "    <tr>\n",
       "      <th>50%</th>\n",
       "      <td>4.000000</td>\n",
       "    </tr>\n",
       "    <tr>\n",
       "      <th>75%</th>\n",
       "      <td>5.000000</td>\n",
       "    </tr>\n",
       "    <tr>\n",
       "      <th>max</th>\n",
       "      <td>5.000000</td>\n",
       "    </tr>\n",
       "  </tbody>\n",
       "</table>\n",
       "</div>"
      ],
      "text/plain": [
       "             Rating\n",
       "count  20491.000000\n",
       "mean       3.952223\n",
       "std        1.233030\n",
       "min        1.000000\n",
       "25%        3.000000\n",
       "50%        4.000000\n",
       "75%        5.000000\n",
       "max        5.000000"
      ]
     },
     "execution_count": 333,
     "metadata": {},
     "output_type": "execute_result"
    }
   ],
   "source": [
    "df.describe()"
   ]
  },
  {
   "cell_type": "code",
   "execution_count": 334,
   "id": "44441482",
   "metadata": {},
   "outputs": [],
   "source": [
    "# import matplotlib.pyplot as plt\n",
    "# import seaborn as sns\n",
    "\n",
    "# sns.histplot(data=df,x='Rating')\n",
    "# plt.show()"
   ]
  },
  {
   "cell_type": "code",
   "execution_count": 335,
   "id": "abf8c3d3",
   "metadata": {},
   "outputs": [
    {
     "data": {
      "text/plain": [
       "14745                                                                                                                                                                                                                                                                                                                                                                                                                                                                                                                                                                                                                                                                                                                                                           going 2 weeks time great time week april 2005 returning 2 week stay, beach wonderful staff talented friendly motivating, food great no complaints, cousin family resort twice, o,  \n",
       "15707                                                                                                                                                                                                                                                                                                                                                                                                                        brilliant hotel arrived hotel little disappointed location soon changed mind, stayed hong kong island decided try kowloon certainly return, relatively new hotel light spacious not easily hong kong, room average size overlooked bay, facilities cleanliness excellent breakfast buffet included superb.there free shuttle bus star ferry terminal close nathan road metro taxis cheap quicker, plus short walk promenade ferry goes central hong kong island.try harbour grill restaurant food service fantastic,  \n",
       "3722     want iwant ro riu wow, riu bambu fabulous hotel experience mum brother forget ok coach transfer hotel greatest gives look truely remarkable diverse country dominican, arrival greeted warm smile handed mai tai immediatly, check took 10 mins luggage arrived room safe sound, mornin greeted terrace gr=ardener choppin coconuts bar, kindly offered chopped whilst gettin ready breakfast, groundstaff barstf restaurant staff friendly helpful willl best talk u language speak food food lovely really gave chance experience local suisine food world disbelief number people ate pizza burgers week, change diet climate did suffer diahorrea nothin handled animation team guys absolutly rocked, freindly did nest involved left didnt, crazy oliver particuar, great fun holiday trips defnatley recommend monster truck safari, amazing chance real dominicans live visit fruit plantations coffee farm unforgettable, love,  \n",
       "844                                                                                                                                                                                                                                                                                                                                                                                                                                               great hotel great hotel, son age 8 absolutely captivated fish turtles atrium, able feed request desk food, breakfasts awesome saving minimum 30/day stayed 5 days 150 savings, cocktail hour s nice relaxing..a nice touch, steakhouse awesome thanks george food service, great, yes lots renovation going no noise heard, outdoor pool chilly beautiful area, guests use bit outdated kept jamming checking emails, room great, loved come, weight room helped work coktails popcorn, thanks,  \n",
       "11668                                                                                                                                                                                                                                                                                                                                                                                                                                                                                                                                                                                                       come hide-a-way blue lagoon stayed 4 nights, wonderful staff friendly willing help directions suggestions, room clean large, free breakfast buffet free safe parking provided, near 836 826 mia airport waterford corporate park, 10-15 minutes beach car needed free bus available mia airport, room view lagoon u not disappointed,  \n",
       "Name: Review, dtype: object"
      ]
     },
     "execution_count": 335,
     "metadata": {},
     "output_type": "execute_result"
    }
   ],
   "source": [
    "df[df.Rating ==5]['Review'].sample(5)"
   ]
  },
  {
   "cell_type": "code",
   "execution_count": 336,
   "id": "f1d8f43c",
   "metadata": {},
   "outputs": [],
   "source": [
    "def lowercased(df,col):\n",
    "    df[col]=df[col].str.lower()"
   ]
  },
  {
   "cell_type": "code",
   "execution_count": 337,
   "id": "ce518ef4",
   "metadata": {},
   "outputs": [],
   "source": [
    "lowercased(df,'Review')"
   ]
  },
  {
   "cell_type": "code",
   "execution_count": 338,
   "id": "7f89a754",
   "metadata": {},
   "outputs": [],
   "source": [
    "df.columns = df.columns.str.lower()"
   ]
  },
  {
   "cell_type": "code",
   "execution_count": 339,
   "id": "71876bcf",
   "metadata": {},
   "outputs": [],
   "source": [
    "import re\n",
    "\n",
    "def count_mojibake(review):\n",
    "    if pd.isna(review):\n",
    "        return 0\n",
    "    return len(re.findall(r'[^\\x00-\\x7F]', review))  \n",
    "\n",
    "df['mojibake_freq'] = df['review'].apply(count_mojibake).astype(int)\n"
   ]
  },
  {
   "cell_type": "code",
   "execution_count": 340,
   "id": "1e428a20",
   "metadata": {},
   "outputs": [
    {
     "name": "stdout",
     "output_type": "stream",
     "text": [
      "1   ->  (93, 3)\n",
      "2   ->  (94, 3)\n",
      "3   ->  (99, 3)\n",
      "4   ->  (272, 3)\n",
      "5   ->  (365, 3)\n"
     ]
    }
   ],
   "source": [
    "for i in range(1,6):\n",
    "    print(i,\"  -> \",df[(df['mojibake_freq']>0) & (df['rating']==i)].shape)"
   ]
  },
  {
   "cell_type": "code",
   "execution_count": 341,
   "id": "43e3fa9f",
   "metadata": {},
   "outputs": [],
   "source": [
    "df['has_mojibake']=(df['mojibake_freq']>0).astype(int)"
   ]
  },
  {
   "cell_type": "code",
   "execution_count": 342,
   "id": "744178d3",
   "metadata": {},
   "outputs": [],
   "source": [
    "from nltk.tokenize import sent_tokenize,word_tokenize\n",
    "\n",
    "df['review_char'] = df['review'].apply(len)\n",
    "\n",
    "df['review_words'] = df['review'].apply(lambda x: len(word_tokenize(x)))\n",
    "\n",
    "df['review_sent'] = df['review'].apply(lambda x: len(sent_tokenize(x)))"
   ]
  },
  {
   "cell_type": "code",
   "execution_count": 343,
   "id": "958cd017",
   "metadata": {},
   "outputs": [],
   "source": [
    "from collections import Counter\n",
    "\n",
    "def repetition_score(text):\n",
    "    words = text.lower().split()\n",
    "    total_words = len(words)\n",
    "    if total_words == 0:\n",
    "        return 0\n",
    "    word_counts = Counter(words)\n",
    "    repeated = sum([count for count in word_counts.values() if count > 1])\n",
    "    return repeated / total_words  \n",
    "\n",
    "df['repetition_score'] = df['review'].fillna('').apply(repetition_score)\n",
    "\n",
    "def max_word_freq(text):\n",
    "    words = text.lower().split()\n",
    "    if not words:\n",
    "        return 0\n",
    "    word_counts = Counter(words)\n",
    "    return max(word_counts.values()) / len(words)\n",
    "\n",
    "df['max_word_repeat_ratio'] = df['review'].fillna('').apply(max_word_freq)\n"
   ]
  },
  {
   "cell_type": "code",
   "execution_count": 344,
   "id": "8969e2e2",
   "metadata": {},
   "outputs": [],
   "source": [
    "# mean_vals = df.groupby('rating')['repetition_score'].mean()\n",
    "# median_vals = df.groupby('rating')['repetition_score'].median()\n",
    "\n",
    "# import matplotlib.pyplot as plt\n",
    "\n",
    "# plt.figure(figsize=(8, 5))\n",
    "# plt.plot(mean_vals, label='Mean', marker='o')\n",
    "# plt.plot(median_vals, label='Median', marker='s')\n",
    "# plt.xlabel('Rating')\n",
    "# plt.ylabel('Repetition_Score')\n",
    "# plt.title('Mean & Median of Repetition_Score by Rating')\n",
    "# plt.legend()\n",
    "# plt.grid(True)\n",
    "# plt.show()\n"
   ]
  },
  {
   "cell_type": "code",
   "execution_count": 345,
   "id": "1337f702",
   "metadata": {},
   "outputs": [
    {
     "data": {
      "text/plain": [
       "Index(['review', 'rating', 'mojibake_freq', 'has_mojibake', 'review_char',\n",
       "       'review_words', 'review_sent', 'repetition_score',\n",
       "       'max_word_repeat_ratio'],\n",
       "      dtype='object')"
      ]
     },
     "execution_count": 345,
     "metadata": {},
     "output_type": "execute_result"
    }
   ],
   "source": [
    "df.columns"
   ]
  },
  {
   "cell_type": "code",
   "execution_count": 346,
   "id": "b00b718f",
   "metadata": {},
   "outputs": [],
   "source": [
    "# mean_vals = df.groupby('rating')['mojibake_freq'].mean()\n",
    "# plt.figure(figsize=(8, 5))\n",
    "# plt.plot(mean_vals, label='Mean', marker='o')\n",
    "# plt.xlabel('Rating')\n",
    "# plt.ylabel('mojibake_freq')\n",
    "# plt.title('Mean of mojibake_freq by Rating')\n",
    "# plt.legend()\n",
    "# plt.grid(True)\n",
    "# plt.show()\n"
   ]
  },
  {
   "cell_type": "code",
   "execution_count": 347,
   "id": "956efd76",
   "metadata": {},
   "outputs": [],
   "source": [
    "# mean_vals = df.groupby('rating')['has_mojibake'].mean()\n",
    "# plt.figure(figsize=(8, 5))\n",
    "# plt.plot(mean_vals, label='Mean', marker='o')\n",
    "# plt.xlabel('Rating')\n",
    "# plt.ylabel('has_mojibake')\n",
    "# plt.title('Mean of has_mojibake by Rating')\n",
    "# plt.legend()\n",
    "# plt.grid(True)\n",
    "# plt.show()\n"
   ]
  },
  {
   "cell_type": "code",
   "execution_count": 348,
   "id": "c1dcfd1c",
   "metadata": {},
   "outputs": [],
   "source": [
    "# mean_vals = df.groupby('rating')['review_char'].mean()\n",
    "# median_vals = df.groupby('rating')['review_char'].median()\n",
    "# plt.figure(figsize=(8, 5))\n",
    "# plt.plot(mean_vals, label='Mean', marker='o')\n",
    "# plt.plot(median_vals, label='Median', marker='s')\n",
    "# plt.xlabel('Rating')\n",
    "# plt.ylabel('review_char')\n",
    "# plt.title('Mean & Median of review_char by Rating')\n",
    "# plt.legend()\n",
    "# plt.grid(True)\n",
    "# plt.show()\n"
   ]
  },
  {
   "cell_type": "code",
   "execution_count": 349,
   "id": "be23b211",
   "metadata": {},
   "outputs": [],
   "source": [
    "# mean_vals = df.groupby('rating')['review_words'].mean()\n",
    "# median_vals = df.groupby('rating')['review_words'].median()\n",
    "# plt.figure(figsize=(8, 5))\n",
    "# plt.plot(mean_vals, label='Mean', marker='o')\n",
    "# plt.plot(median_vals, label='Median', marker='s')\n",
    "# plt.xlabel('Rating')\n",
    "# plt.ylabel('review_words')\n",
    "# plt.title('Mean & Median of review_words by Rating')\n",
    "# plt.legend()\n",
    "# plt.grid(True)\n",
    "# plt.show()\n"
   ]
  },
  {
   "cell_type": "code",
   "execution_count": 350,
   "id": "819a704f",
   "metadata": {},
   "outputs": [],
   "source": [
    "# mean_vals = df.groupby('rating')['review_sent'].mean()\n",
    "# plt.figure(figsize=(8, 5))\n",
    "# plt.plot(mean_vals, label='Mean', marker='o')\n",
    "# plt.xlabel('Rating')\n",
    "# plt.ylabel('review_sent')\n",
    "# plt.title('Mean of review_sent by Rating')\n",
    "# plt.legend()\n",
    "# plt.grid(True)\n",
    "# plt.show()"
   ]
  },
  {
   "cell_type": "code",
   "execution_count": 351,
   "id": "6b1e6264",
   "metadata": {},
   "outputs": [],
   "source": [
    "# mean_vals = df.groupby('rating')['max_word_repeat_ratio'].mean()\n",
    "# median_vals = df.groupby('rating')['max_word_repeat_ratio'].median()\n",
    "# plt.figure(figsize=(8, 5))\n",
    "# plt.plot(mean_vals, label='Mean', marker='o')\n",
    "# plt.plot(median_vals, label='Median', marker='s')\n",
    "# plt.xlabel('Rating')\n",
    "# plt.ylabel('max_word_repeat_ratio')\n",
    "# plt.title('Mean & Median of max_word_repeat_ratio by Rating')\n",
    "# plt.legend()\n",
    "# plt.grid(True)\n",
    "# plt.show()\n"
   ]
  },
  {
   "cell_type": "code",
   "execution_count": 352,
   "id": "5fe0abe3",
   "metadata": {},
   "outputs": [],
   "source": [
    "from nltk.corpus import stopwords\n",
    "from nltk.stem import WordNetLemmatizer\n",
    "from nltk.tokenize import TweetTokenizer\n",
    "\n",
    "meaningful_stopwords={'none', 'believe', 'seem', 'nonetheless', 'than', 'always', 'whereas', 'when', \"aren't\", 'even though',\n",
    "                       \"needn't\", 'now', 'any', \"shouldn't\", 'in case', 'felt', 'literally', 'finally', \"doesn't\",\n",
    "                        'sorta', \"isn't\", 'yet', \"don't\", 'too', 'ever', 'know', 'eventually', 'while', 'most', 'rather', \"weren't\", 'even', 'recently',\n",
    "                        'mean', 'why', 'but', \"won't\",\n",
    "                        'so', 'no', 'instead', 'nowhere', 'all', 'anymore', \"hasn't\", 'several', 'worst', \"didn't\", 'soon',\n",
    "                        'what', \"couldn't\", 'best', 'feel', 'many', 'worse', 'kinda', 'during', 'until', 'though', 'extremely', 'seems', 'honestly',\n",
    "                        'think', 'although', 'how', 'where',\n",
    "                        'who', \"ain't\", 'nothing', 'again', 'better', 'then', 'unless', 'before', 'barely', 'enough', 'because', 'never', 'since',\n",
    "                        'hardly', 'assume', 'merely', 'which', \"wouldn't\", 'not',\n",
    "                        'more', \"mightn't\", 'few', 'just', 'fewer', 'less', 'nevertheless', 'only', 'if', 'suppose', \"can't\", 'later', 'already',\n",
    "                        \"mustn't\", 'absolutely',\n",
    "                        'completely', 'expect', 'after', 'scarcely', 'however', 'nor', \"hadn't\", 'very', \"haven't\", 'consider', 'as',\n",
    "                        'really', 'hopefully', 'somewhat', \"shan't\", 'still', \"wasn't\", 'understand', 'seemed', 'utterly', 'apparently'}\n",
    "\n",
    "stop_words = set(stopwords.words('english')) - meaningful_stopwords\n",
    "\n",
    "lemmatizer = WordNetLemmatizer()\n",
    "tokenizer = TweetTokenizer(preserve_case=False, strip_handles=False, reduce_len=True)\n",
    "\n",
    "def transformtext(text):\n",
    "    if pd.isna(text):\n",
    "        return \"\"\n",
    "\n",
    "    tokens = tokenizer.tokenize(text)\n",
    "    clean_tokens = []\n",
    "\n",
    "    for word in tokens:\n",
    "        if word in stop_words:\n",
    "            continue\n",
    "\n",
    "        if re.match(r\"^[a-zA-Z0-9']+$\", word):\n",
    "            clean_tokens.append(lemmatizer.lemmatize(word))\n",
    "        elif re.match(r\"^#\\w+$\", word):        \n",
    "            clean_tokens.append(word)\n",
    "        elif re.match(r\"^@\\w+$\", word):        \n",
    "            clean_tokens.append(word)\n",
    "        elif word in {\"!\", \"?\"}:\n",
    "            clean_tokens.append(word)\n",
    "\n",
    "    return \" \".join(clean_tokens)\n"
   ]
  },
  {
   "cell_type": "code",
   "execution_count": 353,
   "id": "7ccc8e93",
   "metadata": {},
   "outputs": [],
   "source": [
    "df['review']=df['review'].apply(transformtext)\n"
   ]
  },
  {
   "cell_type": "code",
   "execution_count": 354,
   "id": "ebea9ed7",
   "metadata": {},
   "outputs": [],
   "source": [
    "from textblob import TextBlob\n",
    "\n",
    "def get_sentiment(review):\n",
    "    analysis = TextBlob(review)\n",
    "    return analysis.sentiment.polarity\n",
    "\n",
    "df['sentiment_score']=df['review'].apply(get_sentiment)"
   ]
  },
  {
   "cell_type": "code",
   "execution_count": 355,
   "id": "35931190",
   "metadata": {},
   "outputs": [],
   "source": [
    "df['rating'] = np.where(df['rating'] <= 2, -1, np.where(df['rating'] == 3, 0, 1))"
   ]
  },
  {
   "cell_type": "code",
   "execution_count": 356,
   "id": "438bf2e9",
   "metadata": {},
   "outputs": [
    {
     "data": {
      "text/html": [
       "<div>\n",
       "<style scoped>\n",
       "    .dataframe tbody tr th:only-of-type {\n",
       "        vertical-align: middle;\n",
       "    }\n",
       "\n",
       "    .dataframe tbody tr th {\n",
       "        vertical-align: top;\n",
       "    }\n",
       "\n",
       "    .dataframe thead th {\n",
       "        text-align: right;\n",
       "    }\n",
       "</style>\n",
       "<table border=\"1\" class=\"dataframe\">\n",
       "  <thead>\n",
       "    <tr style=\"text-align: right;\">\n",
       "      <th></th>\n",
       "      <th>review</th>\n",
       "      <th>rating</th>\n",
       "      <th>mojibake_freq</th>\n",
       "      <th>has_mojibake</th>\n",
       "      <th>review_char</th>\n",
       "      <th>review_words</th>\n",
       "      <th>review_sent</th>\n",
       "      <th>repetition_score</th>\n",
       "      <th>max_word_repeat_ratio</th>\n",
       "      <th>sentiment_score</th>\n",
       "    </tr>\n",
       "  </thead>\n",
       "  <tbody>\n",
       "    <tr>\n",
       "      <th>0</th>\n",
       "      <td>nice hotel expensive parking got good deal stay hotel anniversary arrived late evening took advice previous review valet parking check quick easy little disappointed view room room clean nice size bed comfortable woke stiff neck high pillow not soundproof like heard music room night morning loud bang door opening closing hear people talking hallway maybe just noisy neighbor aveda bath product nice not goldfish stay nice touch taken advantage staying longer location great walking distance shopping overall nice experience pay 40 parking night</td>\n",
       "      <td>1</td>\n",
       "      <td>0</td>\n",
       "      <td>0</td>\n",
       "      <td>593</td>\n",
       "      <td>98</td>\n",
       "      <td>1</td>\n",
       "      <td>0.195402</td>\n",
       "      <td>0.045977</td>\n",
       "      <td>0.208744</td>\n",
       "    </tr>\n",
       "    <tr>\n",
       "      <th>1</th>\n",
       "      <td>ok nothing special charge diamond member hilton decided chain shot 20th anniversary seattle start booked suite paid extra website description not suite bedroom bathroom standard hotel room took printed reservation desk showed said thing like tv couch ect desk clerk told oh mixed suite description kimpton website sorry free breakfast got kidding embassy suit sitting room bathroom bedroom unlike kimpton call suite 5 day stay offer correct false advertising send kimpton preferred guest website email asking failure provide suite advertised website reservation description furnished hard copy reservation printout website desk manager duty not reply solution send email trip guest survey not follow email mail guess tell concerned staff ranged indifferent not helpful asked desk good breakfast spot neighborhood hood told no hotel gee best breakfast spot seattle block away convenient hotel not know exist arrived late night 11 pm inside run bellman busy chating cell phone help arrival emailed hotel inform 20th anniversary half really picky wanted make sure good got nice email saying like deliver bottle champagne chocolate covered strawberry room arrival celebrate told needed foam pillow arrival no champagne strawberry no foam pillow great room view alley high rise building good not better housekeeping staff cleaner room property impressed left morning shopping room got short trip 2 hour bed good control 4 x 4 inch screen bring green shine directly eye night light sensitive tape not 4 start hotel clean business hotel super high rate better chain hotel seattle</td>\n",
       "      <td>-1</td>\n",
       "      <td>0</td>\n",
       "      <td>0</td>\n",
       "      <td>1689</td>\n",
       "      <td>270</td>\n",
       "      <td>1</td>\n",
       "      <td>0.388000</td>\n",
       "      <td>0.024000</td>\n",
       "      <td>0.214923</td>\n",
       "    </tr>\n",
       "    <tr>\n",
       "      <th>2</th>\n",
       "      <td>nice room not 4 experience hotel monaco seattle good hotel n't 4 large bathroom mediterranean suite comfortable bed pillowsattentive housekeeping staffnegatives ac unit malfunctioned stay desk disorganized missed 3 separate wakeup call concierge busy hard touch n't provide guidance special hard use ipod sound dock suite non functioning decided book mediterranean suite 3 night weekend stay 1st choice rest party filled comparison w spent 45 night larger square footage room great soaking tub whirlpool jet nice stay hotel arrange car service price 53 tip reasonable driver waiting easy downside room picked 2 person jacuzi tub no bath accessory salt bubble bath n't stay night got checked voucher bottle champagne nice gesture fish waiting room impression room huge open space felt room big tv far away bed chore change channel ipod dock broken morning way asked desk check thermostat said 65f 74 2 degree warm try cover face night bright blue light kept got room night no 1st drop desk called maintainence came look thermostat told play setting happy digital box wo n't work asked wakeup 10am morning n't happen called later 6pm nap wakeup forgot 10am wakeup morning yep bathroom facility great room surprised room sold whirlpool bath tub n't bath amenity great relax water jet going</td>\n",
       "      <td>0</td>\n",
       "      <td>0</td>\n",
       "      <td>0</td>\n",
       "      <td>1427</td>\n",
       "      <td>236</td>\n",
       "      <td>2</td>\n",
       "      <td>0.405530</td>\n",
       "      <td>0.032258</td>\n",
       "      <td>0.294420</td>\n",
       "    </tr>\n",
       "    <tr>\n",
       "      <th>3</th>\n",
       "      <td>unique great stay wonderful time hotel monaco location excellent short stroll main downtown shopping area pet friendly room showed no sign animal hair smell monaco suite sleeping area big striped curtain pulled closed nice touch felt cosy goldfish named brandi enjoyed n't partake free wine coffee tea service lobby thought great feature great staff friendly free wireless internet hotel worked suite 2 laptop decor lovely eclectic mix patten color palatte animal print bathrobe feel like rock star nice n't look like sterile chain hotel hotel personality excellent stay</td>\n",
       "      <td>1</td>\n",
       "      <td>0</td>\n",
       "      <td>0</td>\n",
       "      <td>600</td>\n",
       "      <td>102</td>\n",
       "      <td>1</td>\n",
       "      <td>0.280899</td>\n",
       "      <td>0.044944</td>\n",
       "      <td>0.504825</td>\n",
       "    </tr>\n",
       "    <tr>\n",
       "      <th>4</th>\n",
       "      <td>great stay great stay went seahawk game awesome downfall view building n't complain room huge staff helpful booked hotel website seahawk package no charge parking got voucher taxi problem taxi driver n't want accept voucher barely spoke english funny thing speak arabic called started making comment girlfriend cell phone buddy took second realize just said fact speak language face priceless as told said large city told head doorman issue called cab company promply answer n't apologized offered pay taxi buck 2 mile stadium game plan taxi return going humpin great walk n't mind right christmas wonderful light homeless stowed away building entrance leave police presence not greatest area stadium activity 7 block pike street waterfront great coffee shop way hotel mantained foyer awesome wine tasting available evening best dog taking st bernard time family safe hotel located service desk room bathroom huge jetted tub huge funny house keeping walked girlfriend getting dressed n't hear knock turn service screamed girlfriend scream hit floor laughing started talking spanish worked place recommend price check online deal just good not better besite contains deal voucher travel website n't tell</td>\n",
       "      <td>1</td>\n",
       "      <td>0</td>\n",
       "      <td>0</td>\n",
       "      <td>1281</td>\n",
       "      <td>224</td>\n",
       "      <td>1</td>\n",
       "      <td>0.277487</td>\n",
       "      <td>0.026178</td>\n",
       "      <td>0.389286</td>\n",
       "    </tr>\n",
       "  </tbody>\n",
       "</table>\n",
       "</div>"
      ],
      "text/plain": [
       "                                                                                                                                                                                                                                                                                                                                                                                                                                                                                                                                                                                                                                                                                                                                                                                                                                                                                                                                                                                                                                                                                                                                                                                                                                                                                                                                                                                                                                                                                                                                                                                                                                 review  \\\n",
       "0                                                                                                                                                                                                                                                                                                                                                                                                                                                                                                                                                                                                                                                                                                                                                                                                                                                                                                                                                                                                                                                                    nice hotel expensive parking got good deal stay hotel anniversary arrived late evening took advice previous review valet parking check quick easy little disappointed view room room clean nice size bed comfortable woke stiff neck high pillow not soundproof like heard music room night morning loud bang door opening closing hear people talking hallway maybe just noisy neighbor aveda bath product nice not goldfish stay nice touch taken advantage staying longer location great walking distance shopping overall nice experience pay 40 parking night   \n",
       "1  ok nothing special charge diamond member hilton decided chain shot 20th anniversary seattle start booked suite paid extra website description not suite bedroom bathroom standard hotel room took printed reservation desk showed said thing like tv couch ect desk clerk told oh mixed suite description kimpton website sorry free breakfast got kidding embassy suit sitting room bathroom bedroom unlike kimpton call suite 5 day stay offer correct false advertising send kimpton preferred guest website email asking failure provide suite advertised website reservation description furnished hard copy reservation printout website desk manager duty not reply solution send email trip guest survey not follow email mail guess tell concerned staff ranged indifferent not helpful asked desk good breakfast spot neighborhood hood told no hotel gee best breakfast spot seattle block away convenient hotel not know exist arrived late night 11 pm inside run bellman busy chating cell phone help arrival emailed hotel inform 20th anniversary half really picky wanted make sure good got nice email saying like deliver bottle champagne chocolate covered strawberry room arrival celebrate told needed foam pillow arrival no champagne strawberry no foam pillow great room view alley high rise building good not better housekeeping staff cleaner room property impressed left morning shopping room got short trip 2 hour bed good control 4 x 4 inch screen bring green shine directly eye night light sensitive tape not 4 start hotel clean business hotel super high rate better chain hotel seattle   \n",
       "2                                                                                                                                                                                                                                                                                                nice room not 4 experience hotel monaco seattle good hotel n't 4 large bathroom mediterranean suite comfortable bed pillowsattentive housekeeping staffnegatives ac unit malfunctioned stay desk disorganized missed 3 separate wakeup call concierge busy hard touch n't provide guidance special hard use ipod sound dock suite non functioning decided book mediterranean suite 3 night weekend stay 1st choice rest party filled comparison w spent 45 night larger square footage room great soaking tub whirlpool jet nice stay hotel arrange car service price 53 tip reasonable driver waiting easy downside room picked 2 person jacuzi tub no bath accessory salt bubble bath n't stay night got checked voucher bottle champagne nice gesture fish waiting room impression room huge open space felt room big tv far away bed chore change channel ipod dock broken morning way asked desk check thermostat said 65f 74 2 degree warm try cover face night bright blue light kept got room night no 1st drop desk called maintainence came look thermostat told play setting happy digital box wo n't work asked wakeup 10am morning n't happen called later 6pm nap wakeup forgot 10am wakeup morning yep bathroom facility great room surprised room sold whirlpool bath tub n't bath amenity great relax water jet going   \n",
       "3                                                                                                                                                                                                                                                                                                                                                                                                                                                                                                                                                                                                                                                                                                                                                                                                                                                                                                                                                                                                                                            unique great stay wonderful time hotel monaco location excellent short stroll main downtown shopping area pet friendly room showed no sign animal hair smell monaco suite sleeping area big striped curtain pulled closed nice touch felt cosy goldfish named brandi enjoyed n't partake free wine coffee tea service lobby thought great feature great staff friendly free wireless internet hotel worked suite 2 laptop decor lovely eclectic mix patten color palatte animal print bathrobe feel like rock star nice n't look like sterile chain hotel hotel personality excellent stay   \n",
       "4                                                                                                                                                                                                                                                                                                                                                                                    great stay great stay went seahawk game awesome downfall view building n't complain room huge staff helpful booked hotel website seahawk package no charge parking got voucher taxi problem taxi driver n't want accept voucher barely spoke english funny thing speak arabic called started making comment girlfriend cell phone buddy took second realize just said fact speak language face priceless as told said large city told head doorman issue called cab company promply answer n't apologized offered pay taxi buck 2 mile stadium game plan taxi return going humpin great walk n't mind right christmas wonderful light homeless stowed away building entrance leave police presence not greatest area stadium activity 7 block pike street waterfront great coffee shop way hotel mantained foyer awesome wine tasting available evening best dog taking st bernard time family safe hotel located service desk room bathroom huge jetted tub huge funny house keeping walked girlfriend getting dressed n't hear knock turn service screamed girlfriend scream hit floor laughing started talking spanish worked place recommend price check online deal just good not better besite contains deal voucher travel website n't tell   \n",
       "\n",
       "   rating  mojibake_freq  has_mojibake  review_char  review_words  \\\n",
       "0       1              0             0          593            98   \n",
       "1      -1              0             0         1689           270   \n",
       "2       0              0             0         1427           236   \n",
       "3       1              0             0          600           102   \n",
       "4       1              0             0         1281           224   \n",
       "\n",
       "   review_sent  repetition_score  max_word_repeat_ratio  sentiment_score  \n",
       "0            1          0.195402               0.045977         0.208744  \n",
       "1            1          0.388000               0.024000         0.214923  \n",
       "2            2          0.405530               0.032258         0.294420  \n",
       "3            1          0.280899               0.044944         0.504825  \n",
       "4            1          0.277487               0.026178         0.389286  "
      ]
     },
     "execution_count": 356,
     "metadata": {},
     "output_type": "execute_result"
    }
   ],
   "source": [
    "df.head()"
   ]
  },
  {
   "cell_type": "code",
   "execution_count": 357,
   "id": "3baaaa64",
   "metadata": {},
   "outputs": [],
   "source": [
    "from sklearn.feature_extraction.text import TfidfVectorizer\n",
    "from sklearn.model_selection import train_test_split\n",
    "\n",
    "df_train, df_test = train_test_split(df, test_size=0.25, random_state=42, stratify=df['rating'])"
   ]
  },
  {
   "cell_type": "code",
   "execution_count": 358,
   "id": "4a4637d1",
   "metadata": {},
   "outputs": [],
   "source": [
    "X_train = df_train.drop(columns=['rating'],axis=1)\n",
    "X_test = df_test.drop(columns=['rating'],axis=1)\n",
    "\n",
    "y_train = df_train['rating']\n",
    "y_test = df_test['rating']"
   ]
  },
  {
   "cell_type": "code",
   "execution_count": 359,
   "id": "2926686c",
   "metadata": {},
   "outputs": [],
   "source": [
    "features = ['mojibake_freq', 'has_mojibake', 'review_char',\n",
    "            'review_words', 'review_sent', 'repetition_score',\n",
    "            'max_word_repeat_ratio','sentiment_score']"
   ]
  },
  {
   "cell_type": "code",
   "execution_count": 360,
   "id": "950d0966",
   "metadata": {},
   "outputs": [],
   "source": [
    "from sklearn.feature_extraction.text import TfidfVectorizer\n",
    "from scipy.sparse import hstack, csr_matrix\n",
    "\n",
    "tfidf_review = TfidfVectorizer(max_features=2000)  \n",
    "\n",
    "X_train_review_tfidf = tfidf_review.fit_transform(X_train['review'])\n",
    "X_test_review_tfidf = tfidf_review.transform(X_test['review'])\n",
    "\n",
    "X_train_extra = np.hstack([\n",
    "    X_train[col].astype(float).values.reshape(-1, 1) for col in features\n",
    "])\n",
    "X_test_extra = np.hstack([\n",
    "    X_test[col].astype(float).values.reshape(-1, 1) for col in features\n",
    "])\n",
    "\n",
    "X_train_extra_sparse = csr_matrix(X_train_extra)\n",
    "X_test_extra_sparse = csr_matrix(X_test_extra)\n",
    "\n",
    "X_train_final = hstack([X_train_review_tfidf, X_train_extra_sparse])\n",
    "X_test_final = hstack([X_test_review_tfidf, X_test_extra_sparse])\n"
   ]
  },
  {
   "cell_type": "code",
   "execution_count": 361,
   "id": "65d0bc45",
   "metadata": {},
   "outputs": [],
   "source": [
    "from sklearn.preprocessing import Binarizer\n",
    "\n",
    "binarizer = Binarizer(threshold=0.0)\n",
    "\n",
    "X_train_final_binarized = binarizer.fit_transform(X_train_final)\n",
    "X_test_final_binarized = binarizer.transform(X_test_final)\n"
   ]
  },
  {
   "cell_type": "code",
   "execution_count": 362,
   "id": "deb62fe8",
   "metadata": {},
   "outputs": [],
   "source": [
    "# from sklearn.naive_bayes import BernoulliNB\n",
    "from sklearn.metrics import accuracy_score, classification_report\n",
    "\n",
    "# bnb = BernoulliNB()\n",
    "\n",
    "# bnb.fit(X_train_final_binarized, y_train)\n",
    "\n",
    "# y_pred_bnb = bnb.predict(X_test_final_binarized)\n",
    "\n",
    "# print(\"Accuracy:\", accuracy_score(y_test, y_pred_bnb))\n",
    "# print(\"\\nClassification Report:\\n\", classification_report(y_test, y_pred_bnb))"
   ]
  },
  {
   "cell_type": "code",
   "execution_count": 363,
   "id": "1eb71d1a",
   "metadata": {},
   "outputs": [
    {
     "name": "stdout",
     "output_type": "stream",
     "text": [
      "XGBoost Accuracy: 0.8536014054265079\n",
      "\n",
      "Classification Report:\n",
      "               precision    recall  f1-score   support\n",
      "\n",
      "           0       0.79      0.77      0.78       804\n",
      "           1       0.49      0.18      0.27       546\n",
      "           2       0.88      0.97      0.92      3773\n",
      "\n",
      "    accuracy                           0.85      5123\n",
      "   macro avg       0.72      0.64      0.66      5123\n",
      "weighted avg       0.83      0.85      0.83      5123\n",
      "\n"
     ]
    }
   ],
   "source": [
    "from xgboost import XGBClassifier\n",
    "\n",
    "xgb = XGBClassifier()\n",
    "\n",
    "y_train = y_train + 1\n",
    "y_test = y_test + 1\n",
    "\n",
    "xgb.fit(X_train_final, y_train)\n",
    "\n",
    "y_pred_xgb = xgb.predict(X_test_final)\n",
    "\n",
    "print(\"XGBoost Accuracy:\", accuracy_score(y_test, y_pred_xgb))\n",
    "print(\"\\nClassification Report:\\n\", classification_report(y_test, y_pred_xgb))\n"
   ]
  },
  {
   "cell_type": "code",
   "execution_count": 364,
   "id": "9972cc2a",
   "metadata": {},
   "outputs": [],
   "source": [
    "# from sklearn.ensemble import RandomForestClassifier\n",
    "\n",
    "# rf = RandomForestClassifier(\n",
    "#     n_estimators=200,\n",
    "#     max_depth=None,       \n",
    "#     random_state=42,\n",
    "#     n_jobs=-1             \n",
    "# )\n",
    "\n",
    "# rf.fit(X_train_final, y_train)\n",
    "\n",
    "# y_pred_rf = rf.predict(X_test_final)\n",
    "\n",
    "# print(\"Random Forest Accuracy:\", accuracy_score(y_test, y_pred_rf))\n",
    "# print(\"\\nClassification Report:\\n\", classification_report(y_test, y_pred_rf))\n"
   ]
  },
  {
   "cell_type": "code",
   "execution_count": null,
   "id": "fffea68e",
   "metadata": {},
   "outputs": [],
   "source": [
    "import joblib \n",
    "\n",
    "joblib.dump(xgb,\"model.joblib\")\n",
    "joblib.dump(tfidf_review,'tfidf.joblib')"
   ]
  }
 ],
 "metadata": {
  "kernelspec": {
   "display_name": "Python 3",
   "language": "python",
   "name": "python3"
  },
  "language_info": {
   "codemirror_mode": {
    "name": "ipython",
    "version": 3
   },
   "file_extension": ".py",
   "mimetype": "text/x-python",
   "name": "python",
   "nbconvert_exporter": "python",
   "pygments_lexer": "ipython3",
   "version": "3.12.5"
  }
 },
 "nbformat": 4,
 "nbformat_minor": 5
}
